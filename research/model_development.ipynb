{
 "cells": [
  {
   "cell_type": "code",
   "execution_count": 52,
   "metadata": {},
   "outputs": [],
   "source": [
    "import numpy as np\n",
    "import pandas as pd\n",
    "import os\n",
    "import nltk\n",
    "from nltk.stem import PorterStemmer\n",
    "from sklearn.feature_extraction.text import CountVectorizer\n",
    "import pickle\n",
    "from sklearn.metrics.pairwise import cosine_similarity"
   ]
  },
  {
   "cell_type": "code",
   "execution_count": 2,
   "metadata": {},
   "outputs": [
    {
     "name": "stderr",
     "output_type": "stream",
     "text": [
      "/Users/sudipkhadka/Desktop/Recomendation-System/.rec/lib/python3.12/site-packages/tqdm/auto.py:21: TqdmWarning: IProgress not found. Please update jupyter and ipywidgets. See https://ipywidgets.readthedocs.io/en/stable/user_install.html\n",
      "  from .autonotebook import tqdm as notebook_tqdm\n"
     ]
    }
   ],
   "source": [
    "import kagglehub"
   ]
  },
  {
   "cell_type": "code",
   "execution_count": 3,
   "metadata": {},
   "outputs": [],
   "source": [
    "path = kagglehub.dataset_download(\"asaniczka/tmdb-movies-dataset-2023-930k-movies\")"
   ]
  },
  {
   "cell_type": "code",
   "execution_count": 4,
   "metadata": {},
   "outputs": [
    {
     "name": "stdout",
     "output_type": "stream",
     "text": [
      "Path to dataset files: /Users/sudipkhadka/.cache/kagglehub/datasets/asaniczka/tmdb-movies-dataset-2023-930k-movies/versions/381\n"
     ]
    }
   ],
   "source": [
    "print(\"Path to dataset files:\", path)"
   ]
  },
  {
   "cell_type": "code",
   "execution_count": 5,
   "metadata": {},
   "outputs": [
    {
     "name": "stdout",
     "output_type": "stream",
     "text": [
      "['TMDB_movie_dataset_v11.csv']\n"
     ]
    }
   ],
   "source": [
    "directory_path = \"/Users/sudipkhadka/.cache/kagglehub/datasets/asaniczka/tmdb-movies-dataset-2023-930k-movies/versions/381\"\n",
    "print(os.listdir(directory_path))"
   ]
  },
  {
   "cell_type": "code",
   "execution_count": 6,
   "metadata": {},
   "outputs": [],
   "source": [
    "path = \"/Users/sudipkhadka/.cache/kagglehub/datasets/asaniczka/tmdb-movies-dataset-2023-930k-movies/versions/381/TMDB_movie_dataset_v11.csv\"\n",
    "file = pd.read_csv(path)"
   ]
  },
  {
   "cell_type": "code",
   "execution_count": 7,
   "metadata": {},
   "outputs": [
    {
     "data": {
      "text/plain": [
       "(1127268, 24)"
      ]
     },
     "execution_count": 7,
     "metadata": {},
     "output_type": "execute_result"
    }
   ],
   "source": [
    "file.shape"
   ]
  },
  {
   "cell_type": "code",
   "execution_count": 8,
   "metadata": {},
   "outputs": [
    {
     "data": {
      "text/plain": [
       "Index(['id', 'title', 'vote_average', 'vote_count', 'status', 'release_date',\n",
       "       'revenue', 'runtime', 'adult', 'backdrop_path', 'budget', 'homepage',\n",
       "       'imdb_id', 'original_language', 'original_title', 'overview',\n",
       "       'popularity', 'poster_path', 'tagline', 'genres',\n",
       "       'production_companies', 'production_countries', 'spoken_languages',\n",
       "       'keywords'],\n",
       "      dtype='object')"
      ]
     },
     "execution_count": 8,
     "metadata": {},
     "output_type": "execute_result"
    }
   ],
   "source": [
    "file.columns"
   ]
  },
  {
   "cell_type": "code",
   "execution_count": 9,
   "metadata": {},
   "outputs": [],
   "source": [
    "pd.set_option('display.max_columns', None)"
   ]
  },
  {
   "cell_type": "code",
   "execution_count": 10,
   "metadata": {},
   "outputs": [
    {
     "data": {
      "text/html": [
       "<div>\n",
       "<style scoped>\n",
       "    .dataframe tbody tr th:only-of-type {\n",
       "        vertical-align: middle;\n",
       "    }\n",
       "\n",
       "    .dataframe tbody tr th {\n",
       "        vertical-align: top;\n",
       "    }\n",
       "\n",
       "    .dataframe thead th {\n",
       "        text-align: right;\n",
       "    }\n",
       "</style>\n",
       "<table border=\"1\" class=\"dataframe\">\n",
       "  <thead>\n",
       "    <tr style=\"text-align: right;\">\n",
       "      <th></th>\n",
       "      <th>id</th>\n",
       "      <th>title</th>\n",
       "      <th>vote_average</th>\n",
       "      <th>vote_count</th>\n",
       "      <th>status</th>\n",
       "      <th>release_date</th>\n",
       "      <th>revenue</th>\n",
       "      <th>runtime</th>\n",
       "      <th>adult</th>\n",
       "      <th>backdrop_path</th>\n",
       "      <th>budget</th>\n",
       "      <th>homepage</th>\n",
       "      <th>imdb_id</th>\n",
       "      <th>original_language</th>\n",
       "      <th>original_title</th>\n",
       "      <th>overview</th>\n",
       "      <th>popularity</th>\n",
       "      <th>poster_path</th>\n",
       "      <th>tagline</th>\n",
       "      <th>genres</th>\n",
       "      <th>production_companies</th>\n",
       "      <th>production_countries</th>\n",
       "      <th>spoken_languages</th>\n",
       "      <th>keywords</th>\n",
       "    </tr>\n",
       "  </thead>\n",
       "  <tbody>\n",
       "    <tr>\n",
       "      <th>0</th>\n",
       "      <td>27205</td>\n",
       "      <td>Inception</td>\n",
       "      <td>8.364</td>\n",
       "      <td>34495</td>\n",
       "      <td>Released</td>\n",
       "      <td>2010-07-15</td>\n",
       "      <td>825532764</td>\n",
       "      <td>148</td>\n",
       "      <td>False</td>\n",
       "      <td>/8ZTVqvKDQ8emSGUEMjsS4yHAwrp.jpg</td>\n",
       "      <td>160000000</td>\n",
       "      <td>https://www.warnerbros.com/movies/inception</td>\n",
       "      <td>tt1375666</td>\n",
       "      <td>en</td>\n",
       "      <td>Inception</td>\n",
       "      <td>Cobb, a skilled thief who commits corporate es...</td>\n",
       "      <td>83.952</td>\n",
       "      <td>/oYuLEt3zVCKq57qu2F8dT7NIa6f.jpg</td>\n",
       "      <td>Your mind is the scene of the crime.</td>\n",
       "      <td>Action, Science Fiction, Adventure</td>\n",
       "      <td>Legendary Pictures, Syncopy, Warner Bros. Pict...</td>\n",
       "      <td>United Kingdom, United States of America</td>\n",
       "      <td>English, French, Japanese, Swahili</td>\n",
       "      <td>rescue, mission, dream, airplane, paris, franc...</td>\n",
       "    </tr>\n",
       "    <tr>\n",
       "      <th>1</th>\n",
       "      <td>157336</td>\n",
       "      <td>Interstellar</td>\n",
       "      <td>8.417</td>\n",
       "      <td>32571</td>\n",
       "      <td>Released</td>\n",
       "      <td>2014-11-05</td>\n",
       "      <td>701729206</td>\n",
       "      <td>169</td>\n",
       "      <td>False</td>\n",
       "      <td>/pbrkL804c8yAv3zBZR4QPEafpAR.jpg</td>\n",
       "      <td>165000000</td>\n",
       "      <td>http://www.interstellarmovie.net/</td>\n",
       "      <td>tt0816692</td>\n",
       "      <td>en</td>\n",
       "      <td>Interstellar</td>\n",
       "      <td>The adventures of a group of explorers who mak...</td>\n",
       "      <td>140.241</td>\n",
       "      <td>/gEU2QniE6E77NI6lCU6MxlNBvIx.jpg</td>\n",
       "      <td>Mankind was born on Earth. It was never meant ...</td>\n",
       "      <td>Adventure, Drama, Science Fiction</td>\n",
       "      <td>Legendary Pictures, Syncopy, Lynda Obst Produc...</td>\n",
       "      <td>United Kingdom, United States of America</td>\n",
       "      <td>English</td>\n",
       "      <td>rescue, future, spacecraft, race against time,...</td>\n",
       "    </tr>\n",
       "    <tr>\n",
       "      <th>2</th>\n",
       "      <td>155</td>\n",
       "      <td>The Dark Knight</td>\n",
       "      <td>8.512</td>\n",
       "      <td>30619</td>\n",
       "      <td>Released</td>\n",
       "      <td>2008-07-16</td>\n",
       "      <td>1004558444</td>\n",
       "      <td>152</td>\n",
       "      <td>False</td>\n",
       "      <td>/nMKdUUepR0i5zn0y1T4CsSB5chy.jpg</td>\n",
       "      <td>185000000</td>\n",
       "      <td>https://www.warnerbros.com/movies/dark-knight/</td>\n",
       "      <td>tt0468569</td>\n",
       "      <td>en</td>\n",
       "      <td>The Dark Knight</td>\n",
       "      <td>Batman raises the stakes in his war on crime. ...</td>\n",
       "      <td>130.643</td>\n",
       "      <td>/qJ2tW6WMUDux911r6m7haRef0WH.jpg</td>\n",
       "      <td>Welcome to a world without rules.</td>\n",
       "      <td>Drama, Action, Crime, Thriller</td>\n",
       "      <td>DC Comics, Legendary Pictures, Syncopy, Isobel...</td>\n",
       "      <td>United Kingdom, United States of America</td>\n",
       "      <td>English, Mandarin</td>\n",
       "      <td>joker, sadism, chaos, secret identity, crime f...</td>\n",
       "    </tr>\n",
       "    <tr>\n",
       "      <th>3</th>\n",
       "      <td>19995</td>\n",
       "      <td>Avatar</td>\n",
       "      <td>7.573</td>\n",
       "      <td>29815</td>\n",
       "      <td>Released</td>\n",
       "      <td>2009-12-15</td>\n",
       "      <td>2923706026</td>\n",
       "      <td>162</td>\n",
       "      <td>False</td>\n",
       "      <td>/vL5LR6WdxWPjLPFRLe133jXWsh5.jpg</td>\n",
       "      <td>237000000</td>\n",
       "      <td>https://www.avatar.com/movies/avatar</td>\n",
       "      <td>tt0499549</td>\n",
       "      <td>en</td>\n",
       "      <td>Avatar</td>\n",
       "      <td>In the 22nd century, a paraplegic Marine is di...</td>\n",
       "      <td>79.932</td>\n",
       "      <td>/kyeqWdyUXW608qlYkRqosgbbJyK.jpg</td>\n",
       "      <td>Enter the world of Pandora.</td>\n",
       "      <td>Action, Adventure, Fantasy, Science Fiction</td>\n",
       "      <td>Dune Entertainment, Lightstorm Entertainment, ...</td>\n",
       "      <td>United States of America, United Kingdom</td>\n",
       "      <td>English, Spanish</td>\n",
       "      <td>future, society, culture clash, space travel, ...</td>\n",
       "    </tr>\n",
       "    <tr>\n",
       "      <th>4</th>\n",
       "      <td>24428</td>\n",
       "      <td>The Avengers</td>\n",
       "      <td>7.710</td>\n",
       "      <td>29166</td>\n",
       "      <td>Released</td>\n",
       "      <td>2012-04-25</td>\n",
       "      <td>1518815515</td>\n",
       "      <td>143</td>\n",
       "      <td>False</td>\n",
       "      <td>/9BBTo63ANSmhC4e6r62OJFuK2GL.jpg</td>\n",
       "      <td>220000000</td>\n",
       "      <td>https://www.marvel.com/movies/the-avengers</td>\n",
       "      <td>tt0848228</td>\n",
       "      <td>en</td>\n",
       "      <td>The Avengers</td>\n",
       "      <td>When an unexpected enemy emerges and threatens...</td>\n",
       "      <td>98.082</td>\n",
       "      <td>/RYMX2wcKCBAr24UyPD7xwmjaTn.jpg</td>\n",
       "      <td>Some assembly required.</td>\n",
       "      <td>Science Fiction, Action, Adventure</td>\n",
       "      <td>Marvel Studios</td>\n",
       "      <td>United States of America</td>\n",
       "      <td>English, Hindi, Russian</td>\n",
       "      <td>new york city, superhero, shield, based on com...</td>\n",
       "    </tr>\n",
       "  </tbody>\n",
       "</table>\n",
       "</div>"
      ],
      "text/plain": [
       "       id            title  vote_average  vote_count    status release_date  \\\n",
       "0   27205        Inception         8.364       34495  Released   2010-07-15   \n",
       "1  157336     Interstellar         8.417       32571  Released   2014-11-05   \n",
       "2     155  The Dark Knight         8.512       30619  Released   2008-07-16   \n",
       "3   19995           Avatar         7.573       29815  Released   2009-12-15   \n",
       "4   24428     The Avengers         7.710       29166  Released   2012-04-25   \n",
       "\n",
       "      revenue  runtime  adult                     backdrop_path     budget  \\\n",
       "0   825532764      148  False  /8ZTVqvKDQ8emSGUEMjsS4yHAwrp.jpg  160000000   \n",
       "1   701729206      169  False  /pbrkL804c8yAv3zBZR4QPEafpAR.jpg  165000000   \n",
       "2  1004558444      152  False  /nMKdUUepR0i5zn0y1T4CsSB5chy.jpg  185000000   \n",
       "3  2923706026      162  False  /vL5LR6WdxWPjLPFRLe133jXWsh5.jpg  237000000   \n",
       "4  1518815515      143  False  /9BBTo63ANSmhC4e6r62OJFuK2GL.jpg  220000000   \n",
       "\n",
       "                                         homepage    imdb_id  \\\n",
       "0     https://www.warnerbros.com/movies/inception  tt1375666   \n",
       "1               http://www.interstellarmovie.net/  tt0816692   \n",
       "2  https://www.warnerbros.com/movies/dark-knight/  tt0468569   \n",
       "3            https://www.avatar.com/movies/avatar  tt0499549   \n",
       "4      https://www.marvel.com/movies/the-avengers  tt0848228   \n",
       "\n",
       "  original_language   original_title  \\\n",
       "0                en        Inception   \n",
       "1                en     Interstellar   \n",
       "2                en  The Dark Knight   \n",
       "3                en           Avatar   \n",
       "4                en     The Avengers   \n",
       "\n",
       "                                            overview  popularity  \\\n",
       "0  Cobb, a skilled thief who commits corporate es...      83.952   \n",
       "1  The adventures of a group of explorers who mak...     140.241   \n",
       "2  Batman raises the stakes in his war on crime. ...     130.643   \n",
       "3  In the 22nd century, a paraplegic Marine is di...      79.932   \n",
       "4  When an unexpected enemy emerges and threatens...      98.082   \n",
       "\n",
       "                        poster_path  \\\n",
       "0  /oYuLEt3zVCKq57qu2F8dT7NIa6f.jpg   \n",
       "1  /gEU2QniE6E77NI6lCU6MxlNBvIx.jpg   \n",
       "2  /qJ2tW6WMUDux911r6m7haRef0WH.jpg   \n",
       "3  /kyeqWdyUXW608qlYkRqosgbbJyK.jpg   \n",
       "4   /RYMX2wcKCBAr24UyPD7xwmjaTn.jpg   \n",
       "\n",
       "                                             tagline  \\\n",
       "0               Your mind is the scene of the crime.   \n",
       "1  Mankind was born on Earth. It was never meant ...   \n",
       "2                  Welcome to a world without rules.   \n",
       "3                        Enter the world of Pandora.   \n",
       "4                            Some assembly required.   \n",
       "\n",
       "                                        genres  \\\n",
       "0           Action, Science Fiction, Adventure   \n",
       "1            Adventure, Drama, Science Fiction   \n",
       "2               Drama, Action, Crime, Thriller   \n",
       "3  Action, Adventure, Fantasy, Science Fiction   \n",
       "4           Science Fiction, Action, Adventure   \n",
       "\n",
       "                                production_companies  \\\n",
       "0  Legendary Pictures, Syncopy, Warner Bros. Pict...   \n",
       "1  Legendary Pictures, Syncopy, Lynda Obst Produc...   \n",
       "2  DC Comics, Legendary Pictures, Syncopy, Isobel...   \n",
       "3  Dune Entertainment, Lightstorm Entertainment, ...   \n",
       "4                                     Marvel Studios   \n",
       "\n",
       "                       production_countries  \\\n",
       "0  United Kingdom, United States of America   \n",
       "1  United Kingdom, United States of America   \n",
       "2  United Kingdom, United States of America   \n",
       "3  United States of America, United Kingdom   \n",
       "4                  United States of America   \n",
       "\n",
       "                     spoken_languages  \\\n",
       "0  English, French, Japanese, Swahili   \n",
       "1                             English   \n",
       "2                   English, Mandarin   \n",
       "3                    English, Spanish   \n",
       "4             English, Hindi, Russian   \n",
       "\n",
       "                                            keywords  \n",
       "0  rescue, mission, dream, airplane, paris, franc...  \n",
       "1  rescue, future, spacecraft, race against time,...  \n",
       "2  joker, sadism, chaos, secret identity, crime f...  \n",
       "3  future, society, culture clash, space travel, ...  \n",
       "4  new york city, superhero, shield, based on com...  "
      ]
     },
     "execution_count": 10,
     "metadata": {},
     "output_type": "execute_result"
    }
   ],
   "source": [
    "file.head()"
   ]
  },
  {
   "cell_type": "code",
   "execution_count": 11,
   "metadata": {},
   "outputs": [
    {
     "data": {
      "text/plain": [
       "0            27205\n",
       "1           157336\n",
       "2              155\n",
       "3            19995\n",
       "4            24428\n",
       "            ...   \n",
       "1127263     728501\n",
       "1127264     728502\n",
       "1127265     728503\n",
       "1127266     728505\n",
       "1127267    1382000\n",
       "Name: id, Length: 1127268, dtype: int64"
      ]
     },
     "execution_count": 11,
     "metadata": {},
     "output_type": "execute_result"
    }
   ],
   "source": [
    "file['id']"
   ]
  },
  {
   "cell_type": "code",
   "execution_count": 12,
   "metadata": {},
   "outputs": [],
   "source": [
    "file = file[['id', 'title','overview','tagline', 'genres','keywords']]"
   ]
  },
  {
   "cell_type": "code",
   "execution_count": 13,
   "metadata": {},
   "outputs": [
    {
     "data": {
      "text/html": [
       "<div>\n",
       "<style scoped>\n",
       "    .dataframe tbody tr th:only-of-type {\n",
       "        vertical-align: middle;\n",
       "    }\n",
       "\n",
       "    .dataframe tbody tr th {\n",
       "        vertical-align: top;\n",
       "    }\n",
       "\n",
       "    .dataframe thead th {\n",
       "        text-align: right;\n",
       "    }\n",
       "</style>\n",
       "<table border=\"1\" class=\"dataframe\">\n",
       "  <thead>\n",
       "    <tr style=\"text-align: right;\">\n",
       "      <th></th>\n",
       "      <th>id</th>\n",
       "      <th>title</th>\n",
       "      <th>overview</th>\n",
       "      <th>tagline</th>\n",
       "      <th>genres</th>\n",
       "      <th>keywords</th>\n",
       "    </tr>\n",
       "  </thead>\n",
       "  <tbody>\n",
       "    <tr>\n",
       "      <th>0</th>\n",
       "      <td>27205</td>\n",
       "      <td>Inception</td>\n",
       "      <td>Cobb, a skilled thief who commits corporate es...</td>\n",
       "      <td>Your mind is the scene of the crime.</td>\n",
       "      <td>Action, Science Fiction, Adventure</td>\n",
       "      <td>rescue, mission, dream, airplane, paris, franc...</td>\n",
       "    </tr>\n",
       "    <tr>\n",
       "      <th>1</th>\n",
       "      <td>157336</td>\n",
       "      <td>Interstellar</td>\n",
       "      <td>The adventures of a group of explorers who mak...</td>\n",
       "      <td>Mankind was born on Earth. It was never meant ...</td>\n",
       "      <td>Adventure, Drama, Science Fiction</td>\n",
       "      <td>rescue, future, spacecraft, race against time,...</td>\n",
       "    </tr>\n",
       "    <tr>\n",
       "      <th>2</th>\n",
       "      <td>155</td>\n",
       "      <td>The Dark Knight</td>\n",
       "      <td>Batman raises the stakes in his war on crime. ...</td>\n",
       "      <td>Welcome to a world without rules.</td>\n",
       "      <td>Drama, Action, Crime, Thriller</td>\n",
       "      <td>joker, sadism, chaos, secret identity, crime f...</td>\n",
       "    </tr>\n",
       "    <tr>\n",
       "      <th>3</th>\n",
       "      <td>19995</td>\n",
       "      <td>Avatar</td>\n",
       "      <td>In the 22nd century, a paraplegic Marine is di...</td>\n",
       "      <td>Enter the world of Pandora.</td>\n",
       "      <td>Action, Adventure, Fantasy, Science Fiction</td>\n",
       "      <td>future, society, culture clash, space travel, ...</td>\n",
       "    </tr>\n",
       "    <tr>\n",
       "      <th>4</th>\n",
       "      <td>24428</td>\n",
       "      <td>The Avengers</td>\n",
       "      <td>When an unexpected enemy emerges and threatens...</td>\n",
       "      <td>Some assembly required.</td>\n",
       "      <td>Science Fiction, Action, Adventure</td>\n",
       "      <td>new york city, superhero, shield, based on com...</td>\n",
       "    </tr>\n",
       "    <tr>\n",
       "      <th>...</th>\n",
       "      <td>...</td>\n",
       "      <td>...</td>\n",
       "      <td>...</td>\n",
       "      <td>...</td>\n",
       "      <td>...</td>\n",
       "      <td>...</td>\n",
       "    </tr>\n",
       "    <tr>\n",
       "      <th>1127263</th>\n",
       "      <td>728501</td>\n",
       "      <td>California And Its Natural Resources</td>\n",
       "      <td>A look at the vast natural resources in Califo...</td>\n",
       "      <td>NaN</td>\n",
       "      <td>NaN</td>\n",
       "      <td>NaN</td>\n",
       "    </tr>\n",
       "    <tr>\n",
       "      <th>1127264</th>\n",
       "      <td>728502</td>\n",
       "      <td>Beep</td>\n",
       "      <td>An old man spends his final days fixing machin...</td>\n",
       "      <td>NaN</td>\n",
       "      <td>Science Fiction</td>\n",
       "      <td>robot, short film</td>\n",
       "    </tr>\n",
       "    <tr>\n",
       "      <th>1127265</th>\n",
       "      <td>728503</td>\n",
       "      <td>Tribe: The Untold Story of the Making of Vice ...</td>\n",
       "      <td>Two brave young men set out to create the grea...</td>\n",
       "      <td>Don't forget the VENGEANCE</td>\n",
       "      <td>Comedy, Action, Drama</td>\n",
       "      <td>gun, movie business, writing, satire, tribe, b...</td>\n",
       "    </tr>\n",
       "    <tr>\n",
       "      <th>1127266</th>\n",
       "      <td>728505</td>\n",
       "      <td>Sinkhole</td>\n",
       "      <td>A young family moves into their dream home, ex...</td>\n",
       "      <td>NaN</td>\n",
       "      <td>Thriller</td>\n",
       "      <td>NaN</td>\n",
       "    </tr>\n",
       "    <tr>\n",
       "      <th>1127267</th>\n",
       "      <td>1382000</td>\n",
       "      <td>Jane Fonda and Illeana Douglas on KLUTE</td>\n",
       "      <td>In 2019, Jane Fonda sat down for an interview ...</td>\n",
       "      <td>NaN</td>\n",
       "      <td>NaN</td>\n",
       "      <td>NaN</td>\n",
       "    </tr>\n",
       "  </tbody>\n",
       "</table>\n",
       "<p>1127268 rows × 6 columns</p>\n",
       "</div>"
      ],
      "text/plain": [
       "              id                                              title  \\\n",
       "0          27205                                          Inception   \n",
       "1         157336                                       Interstellar   \n",
       "2            155                                    The Dark Knight   \n",
       "3          19995                                             Avatar   \n",
       "4          24428                                       The Avengers   \n",
       "...          ...                                                ...   \n",
       "1127263   728501               California And Its Natural Resources   \n",
       "1127264   728502                                               Beep   \n",
       "1127265   728503  Tribe: The Untold Story of the Making of Vice ...   \n",
       "1127266   728505                                           Sinkhole   \n",
       "1127267  1382000            Jane Fonda and Illeana Douglas on KLUTE   \n",
       "\n",
       "                                                  overview  \\\n",
       "0        Cobb, a skilled thief who commits corporate es...   \n",
       "1        The adventures of a group of explorers who mak...   \n",
       "2        Batman raises the stakes in his war on crime. ...   \n",
       "3        In the 22nd century, a paraplegic Marine is di...   \n",
       "4        When an unexpected enemy emerges and threatens...   \n",
       "...                                                    ...   \n",
       "1127263  A look at the vast natural resources in Califo...   \n",
       "1127264  An old man spends his final days fixing machin...   \n",
       "1127265  Two brave young men set out to create the grea...   \n",
       "1127266  A young family moves into their dream home, ex...   \n",
       "1127267  In 2019, Jane Fonda sat down for an interview ...   \n",
       "\n",
       "                                                   tagline  \\\n",
       "0                     Your mind is the scene of the crime.   \n",
       "1        Mankind was born on Earth. It was never meant ...   \n",
       "2                        Welcome to a world without rules.   \n",
       "3                              Enter the world of Pandora.   \n",
       "4                                  Some assembly required.   \n",
       "...                                                    ...   \n",
       "1127263                                                NaN   \n",
       "1127264                                                NaN   \n",
       "1127265                         Don't forget the VENGEANCE   \n",
       "1127266                                                NaN   \n",
       "1127267                                                NaN   \n",
       "\n",
       "                                              genres  \\\n",
       "0                 Action, Science Fiction, Adventure   \n",
       "1                  Adventure, Drama, Science Fiction   \n",
       "2                     Drama, Action, Crime, Thriller   \n",
       "3        Action, Adventure, Fantasy, Science Fiction   \n",
       "4                 Science Fiction, Action, Adventure   \n",
       "...                                              ...   \n",
       "1127263                                          NaN   \n",
       "1127264                              Science Fiction   \n",
       "1127265                        Comedy, Action, Drama   \n",
       "1127266                                     Thriller   \n",
       "1127267                                          NaN   \n",
       "\n",
       "                                                  keywords  \n",
       "0        rescue, mission, dream, airplane, paris, franc...  \n",
       "1        rescue, future, spacecraft, race against time,...  \n",
       "2        joker, sadism, chaos, secret identity, crime f...  \n",
       "3        future, society, culture clash, space travel, ...  \n",
       "4        new york city, superhero, shield, based on com...  \n",
       "...                                                    ...  \n",
       "1127263                                                NaN  \n",
       "1127264                                  robot, short film  \n",
       "1127265  gun, movie business, writing, satire, tribe, b...  \n",
       "1127266                                                NaN  \n",
       "1127267                                                NaN  \n",
       "\n",
       "[1127268 rows x 6 columns]"
      ]
     },
     "execution_count": 13,
     "metadata": {},
     "output_type": "execute_result"
    }
   ],
   "source": [
    "file"
   ]
  },
  {
   "cell_type": "code",
   "execution_count": 14,
   "metadata": {},
   "outputs": [
    {
     "data": {
      "text/plain": [
       "id               0\n",
       "title           13\n",
       "overview    227262\n",
       "tagline     969084\n",
       "genres      450298\n",
       "keywords    820689\n",
       "dtype: int64"
      ]
     },
     "execution_count": 14,
     "metadata": {},
     "output_type": "execute_result"
    }
   ],
   "source": [
    "file.isna().sum()"
   ]
  },
  {
   "cell_type": "code",
   "execution_count": 15,
   "metadata": {},
   "outputs": [],
   "source": [
    "file.dropna(inplace=True)"
   ]
  },
  {
   "cell_type": "code",
   "execution_count": 16,
   "metadata": {},
   "outputs": [
    {
     "data": {
      "text/plain": [
       "id          0\n",
       "title       0\n",
       "overview    0\n",
       "tagline     0\n",
       "genres      0\n",
       "keywords    0\n",
       "dtype: int64"
      ]
     },
     "execution_count": 16,
     "metadata": {},
     "output_type": "execute_result"
    }
   ],
   "source": [
    "file.isna().sum()"
   ]
  },
  {
   "cell_type": "code",
   "execution_count": 17,
   "metadata": {},
   "outputs": [
    {
     "data": {
      "text/plain": [
       "np.int64(8)"
      ]
     },
     "execution_count": 17,
     "metadata": {},
     "output_type": "execute_result"
    }
   ],
   "source": [
    "file.duplicated().sum()"
   ]
  },
  {
   "cell_type": "code",
   "execution_count": 18,
   "metadata": {},
   "outputs": [
    {
     "data": {
      "text/html": [
       "<div>\n",
       "<style scoped>\n",
       "    .dataframe tbody tr th:only-of-type {\n",
       "        vertical-align: middle;\n",
       "    }\n",
       "\n",
       "    .dataframe tbody tr th {\n",
       "        vertical-align: top;\n",
       "    }\n",
       "\n",
       "    .dataframe thead th {\n",
       "        text-align: right;\n",
       "    }\n",
       "</style>\n",
       "<table border=\"1\" class=\"dataframe\">\n",
       "  <thead>\n",
       "    <tr style=\"text-align: right;\">\n",
       "      <th></th>\n",
       "      <th>id</th>\n",
       "      <th>title</th>\n",
       "      <th>overview</th>\n",
       "      <th>tagline</th>\n",
       "      <th>genres</th>\n",
       "      <th>keywords</th>\n",
       "    </tr>\n",
       "  </thead>\n",
       "  <tbody>\n",
       "    <tr>\n",
       "      <th>289352</th>\n",
       "      <td>1199990</td>\n",
       "      <td>The Undead</td>\n",
       "      <td>At the end of times a dysfunctional family tak...</td>\n",
       "      <td>The end is just the beginning</td>\n",
       "      <td>Horror, Thriller</td>\n",
       "      <td>undead, religion, dead children, religious horror</td>\n",
       "    </tr>\n",
       "    <tr>\n",
       "      <th>636555</th>\n",
       "      <td>1192966</td>\n",
       "      <td>Rejoyce!</td>\n",
       "      <td>After the death of her husband, an elderly vic...</td>\n",
       "      <td>Not your normal Sunday service</td>\n",
       "      <td>Drama, Comedy</td>\n",
       "      <td>widow, religion, writer, vicar, erotic fantasy...</td>\n",
       "    </tr>\n",
       "    <tr>\n",
       "      <th>636629</th>\n",
       "      <td>1192942</td>\n",
       "      <td>Jamel Herring vs. Nick Molina</td>\n",
       "      <td>Former WBO junior lightweight world champion a...</td>\n",
       "      <td>Heroes On The Hudson</td>\n",
       "      <td>Action</td>\n",
       "      <td>boxing</td>\n",
       "    </tr>\n",
       "    <tr>\n",
       "      <th>682954</th>\n",
       "      <td>1260756</td>\n",
       "      <td>Remember</td>\n",
       "      <td>This short documentary produced by the Univers...</td>\n",
       "      <td>“If you don’t know, why don’t you know?” – Chi...</td>\n",
       "      <td>Documentary</td>\n",
       "      <td>portland, oregon, world war ii, japanese ameri...</td>\n",
       "    </tr>\n",
       "    <tr>\n",
       "      <th>687723</th>\n",
       "      <td>1261223</td>\n",
       "      <td>A New Life</td>\n",
       "      <td>A Barber--or professional men's hair coach, as...</td>\n",
       "      <td>A barber--or men's hair coach, as he prefers t...</td>\n",
       "      <td>Documentary</td>\n",
       "      <td>fashion, life changing, barber</td>\n",
       "    </tr>\n",
       "    <tr>\n",
       "      <th>693652</th>\n",
       "      <td>1256725</td>\n",
       "      <td>Soda Pop Spencer Storms Atlanta: A January 6th...</td>\n",
       "      <td>When a naive soda influencer/reviewer uncovers...</td>\n",
       "      <td>Maybe the means justify the ends...</td>\n",
       "      <td>Comedy</td>\n",
       "      <td>satire, mockumentary, road movie, political sa...</td>\n",
       "    </tr>\n",
       "    <tr>\n",
       "      <th>702820</th>\n",
       "      <td>1208789</td>\n",
       "      <td>Amy John &amp; Ju-Jitsu Dave</td>\n",
       "      <td>John is left on the boat to fend for his life ...</td>\n",
       "      <td>She’ll be back in thirty minutes.</td>\n",
       "      <td>Horror, Comedy</td>\n",
       "      <td>coming of age, zombie apocalypse, living on a ...</td>\n",
       "    </tr>\n",
       "    <tr>\n",
       "      <th>715449</th>\n",
       "      <td>1232080</td>\n",
       "      <td>Nakamori Akina - Live In '87 A HUNDRED Days</td>\n",
       "      <td>Live in '87 A HUNDRED days is the seventh vide...</td>\n",
       "      <td>Nakamori Akina - Live in '87 A HUNDRED days</td>\n",
       "      <td>Music</td>\n",
       "      <td>concert, japanese music, idol</td>\n",
       "    </tr>\n",
       "  </tbody>\n",
       "</table>\n",
       "</div>"
      ],
      "text/plain": [
       "             id                                              title  \\\n",
       "289352  1199990                                         The Undead   \n",
       "636555  1192966                                           Rejoyce!   \n",
       "636629  1192942                      Jamel Herring vs. Nick Molina   \n",
       "682954  1260756                                           Remember   \n",
       "687723  1261223                                         A New Life   \n",
       "693652  1256725  Soda Pop Spencer Storms Atlanta: A January 6th...   \n",
       "702820  1208789                           Amy John & Ju-Jitsu Dave   \n",
       "715449  1232080        Nakamori Akina - Live In '87 A HUNDRED Days   \n",
       "\n",
       "                                                 overview  \\\n",
       "289352  At the end of times a dysfunctional family tak...   \n",
       "636555  After the death of her husband, an elderly vic...   \n",
       "636629  Former WBO junior lightweight world champion a...   \n",
       "682954  This short documentary produced by the Univers...   \n",
       "687723  A Barber--or professional men's hair coach, as...   \n",
       "693652  When a naive soda influencer/reviewer uncovers...   \n",
       "702820  John is left on the boat to fend for his life ...   \n",
       "715449  Live in '87 A HUNDRED days is the seventh vide...   \n",
       "\n",
       "                                                  tagline            genres  \\\n",
       "289352                      The end is just the beginning  Horror, Thriller   \n",
       "636555                     Not your normal Sunday service     Drama, Comedy   \n",
       "636629                               Heroes On The Hudson            Action   \n",
       "682954  “If you don’t know, why don’t you know?” – Chi...       Documentary   \n",
       "687723  A barber--or men's hair coach, as he prefers t...       Documentary   \n",
       "693652                Maybe the means justify the ends...            Comedy   \n",
       "702820                  She’ll be back in thirty minutes.    Horror, Comedy   \n",
       "715449        Nakamori Akina - Live in '87 A HUNDRED days             Music   \n",
       "\n",
       "                                                 keywords  \n",
       "289352  undead, religion, dead children, religious horror  \n",
       "636555  widow, religion, writer, vicar, erotic fantasy...  \n",
       "636629                                             boxing  \n",
       "682954  portland, oregon, world war ii, japanese ameri...  \n",
       "687723                     fashion, life changing, barber  \n",
       "693652  satire, mockumentary, road movie, political sa...  \n",
       "702820  coming of age, zombie apocalypse, living on a ...  \n",
       "715449                      concert, japanese music, idol  "
      ]
     },
     "execution_count": 18,
     "metadata": {},
     "output_type": "execute_result"
    }
   ],
   "source": [
    "#display duplicate rows\n",
    "duplicate_row = file[file.duplicated()]\n",
    "duplicate_row"
   ]
  },
  {
   "cell_type": "code",
   "execution_count": 19,
   "metadata": {},
   "outputs": [],
   "source": [
    "file.drop_duplicates(inplace=True)"
   ]
  },
  {
   "cell_type": "code",
   "execution_count": 20,
   "metadata": {},
   "outputs": [
    {
     "data": {
      "text/plain": [
       "np.int64(0)"
      ]
     },
     "execution_count": 20,
     "metadata": {},
     "output_type": "execute_result"
    }
   ],
   "source": [
    "file.duplicated().sum()"
   ]
  },
  {
   "cell_type": "code",
   "execution_count": 21,
   "metadata": {},
   "outputs": [
    {
     "data": {
      "text/plain": [
       "(74301, 6)"
      ]
     },
     "execution_count": 21,
     "metadata": {},
     "output_type": "execute_result"
    }
   ],
   "source": [
    "file.shape"
   ]
  },
  {
   "cell_type": "code",
   "execution_count": 22,
   "metadata": {},
   "outputs": [],
   "source": [
    "file['overview'] = file['overview'].apply(lambda x:x.split())\n",
    "file['tagline'] = file['tagline'].apply(lambda x:x.split())\n",
    "file['genres'] = file['genres'].apply(lambda x:x.split())\n",
    "file['keywords'] = file['keywords'].apply(lambda x:x.split())"
   ]
  },
  {
   "cell_type": "code",
   "execution_count": 23,
   "metadata": {},
   "outputs": [
    {
     "data": {
      "text/html": [
       "<div>\n",
       "<style scoped>\n",
       "    .dataframe tbody tr th:only-of-type {\n",
       "        vertical-align: middle;\n",
       "    }\n",
       "\n",
       "    .dataframe tbody tr th {\n",
       "        vertical-align: top;\n",
       "    }\n",
       "\n",
       "    .dataframe thead th {\n",
       "        text-align: right;\n",
       "    }\n",
       "</style>\n",
       "<table border=\"1\" class=\"dataframe\">\n",
       "  <thead>\n",
       "    <tr style=\"text-align: right;\">\n",
       "      <th></th>\n",
       "      <th>id</th>\n",
       "      <th>title</th>\n",
       "      <th>overview</th>\n",
       "      <th>tagline</th>\n",
       "      <th>genres</th>\n",
       "      <th>keywords</th>\n",
       "    </tr>\n",
       "  </thead>\n",
       "  <tbody>\n",
       "    <tr>\n",
       "      <th>0</th>\n",
       "      <td>27205</td>\n",
       "      <td>Inception</td>\n",
       "      <td>[Cobb,, a, skilled, thief, who, commits, corpo...</td>\n",
       "      <td>[Your, mind, is, the, scene, of, the, crime.]</td>\n",
       "      <td>[Action,, Science, Fiction,, Adventure]</td>\n",
       "      <td>[rescue,, mission,, dream,, airplane,, paris,,...</td>\n",
       "    </tr>\n",
       "    <tr>\n",
       "      <th>1</th>\n",
       "      <td>157336</td>\n",
       "      <td>Interstellar</td>\n",
       "      <td>[The, adventures, of, a, group, of, explorers,...</td>\n",
       "      <td>[Mankind, was, born, on, Earth., It, was, neve...</td>\n",
       "      <td>[Adventure,, Drama,, Science, Fiction]</td>\n",
       "      <td>[rescue,, future,, spacecraft,, race, against,...</td>\n",
       "    </tr>\n",
       "    <tr>\n",
       "      <th>2</th>\n",
       "      <td>155</td>\n",
       "      <td>The Dark Knight</td>\n",
       "      <td>[Batman, raises, the, stakes, in, his, war, on...</td>\n",
       "      <td>[Welcome, to, a, world, without, rules.]</td>\n",
       "      <td>[Drama,, Action,, Crime,, Thriller]</td>\n",
       "      <td>[joker,, sadism,, chaos,, secret, identity,, c...</td>\n",
       "    </tr>\n",
       "    <tr>\n",
       "      <th>3</th>\n",
       "      <td>19995</td>\n",
       "      <td>Avatar</td>\n",
       "      <td>[In, the, 22nd, century,, a, paraplegic, Marin...</td>\n",
       "      <td>[Enter, the, world, of, Pandora.]</td>\n",
       "      <td>[Action,, Adventure,, Fantasy,, Science, Fiction]</td>\n",
       "      <td>[future,, society,, culture, clash,, space, tr...</td>\n",
       "    </tr>\n",
       "    <tr>\n",
       "      <th>4</th>\n",
       "      <td>24428</td>\n",
       "      <td>The Avengers</td>\n",
       "      <td>[When, an, unexpected, enemy, emerges, and, th...</td>\n",
       "      <td>[Some, assembly, required.]</td>\n",
       "      <td>[Science, Fiction,, Action,, Adventure]</td>\n",
       "      <td>[new, york, city,, superhero,, shield,, based,...</td>\n",
       "    </tr>\n",
       "  </tbody>\n",
       "</table>\n",
       "</div>"
      ],
      "text/plain": [
       "       id            title                                           overview  \\\n",
       "0   27205        Inception  [Cobb,, a, skilled, thief, who, commits, corpo...   \n",
       "1  157336     Interstellar  [The, adventures, of, a, group, of, explorers,...   \n",
       "2     155  The Dark Knight  [Batman, raises, the, stakes, in, his, war, on...   \n",
       "3   19995           Avatar  [In, the, 22nd, century,, a, paraplegic, Marin...   \n",
       "4   24428     The Avengers  [When, an, unexpected, enemy, emerges, and, th...   \n",
       "\n",
       "                                             tagline  \\\n",
       "0      [Your, mind, is, the, scene, of, the, crime.]   \n",
       "1  [Mankind, was, born, on, Earth., It, was, neve...   \n",
       "2           [Welcome, to, a, world, without, rules.]   \n",
       "3                  [Enter, the, world, of, Pandora.]   \n",
       "4                        [Some, assembly, required.]   \n",
       "\n",
       "                                              genres  \\\n",
       "0            [Action,, Science, Fiction,, Adventure]   \n",
       "1             [Adventure,, Drama,, Science, Fiction]   \n",
       "2                [Drama,, Action,, Crime,, Thriller]   \n",
       "3  [Action,, Adventure,, Fantasy,, Science, Fiction]   \n",
       "4            [Science, Fiction,, Action,, Adventure]   \n",
       "\n",
       "                                            keywords  \n",
       "0  [rescue,, mission,, dream,, airplane,, paris,,...  \n",
       "1  [rescue,, future,, spacecraft,, race, against,...  \n",
       "2  [joker,, sadism,, chaos,, secret, identity,, c...  \n",
       "3  [future,, society,, culture, clash,, space, tr...  \n",
       "4  [new, york, city,, superhero,, shield,, based,...  "
      ]
     },
     "execution_count": 23,
     "metadata": {},
     "output_type": "execute_result"
    }
   ],
   "source": [
    "file.head()"
   ]
  },
  {
   "cell_type": "code",
   "execution_count": 24,
   "metadata": {},
   "outputs": [],
   "source": [
    "def remove_space(s):\n",
    "    s1 = []\n",
    "    for i in s:\n",
    "        s1.append(i.replace(\" \", \"\"))\n",
    "    return s1"
   ]
  },
  {
   "cell_type": "code",
   "execution_count": 25,
   "metadata": {},
   "outputs": [],
   "source": [
    "file['overview'] = file['overview'].apply(remove_space)\n",
    "file['tagline'] = file['tagline'].apply(remove_space)\n",
    "file['genres'] = file['genres'].apply(remove_space)\n",
    "file['keywords'] = file['keywords'].apply(remove_space)"
   ]
  },
  {
   "cell_type": "code",
   "execution_count": 26,
   "metadata": {},
   "outputs": [
    {
     "data": {
      "text/html": [
       "<div>\n",
       "<style scoped>\n",
       "    .dataframe tbody tr th:only-of-type {\n",
       "        vertical-align: middle;\n",
       "    }\n",
       "\n",
       "    .dataframe tbody tr th {\n",
       "        vertical-align: top;\n",
       "    }\n",
       "\n",
       "    .dataframe thead th {\n",
       "        text-align: right;\n",
       "    }\n",
       "</style>\n",
       "<table border=\"1\" class=\"dataframe\">\n",
       "  <thead>\n",
       "    <tr style=\"text-align: right;\">\n",
       "      <th></th>\n",
       "      <th>id</th>\n",
       "      <th>title</th>\n",
       "      <th>overview</th>\n",
       "      <th>tagline</th>\n",
       "      <th>genres</th>\n",
       "      <th>keywords</th>\n",
       "    </tr>\n",
       "  </thead>\n",
       "  <tbody>\n",
       "    <tr>\n",
       "      <th>0</th>\n",
       "      <td>27205</td>\n",
       "      <td>Inception</td>\n",
       "      <td>[Cobb,, a, skilled, thief, who, commits, corpo...</td>\n",
       "      <td>[Your, mind, is, the, scene, of, the, crime.]</td>\n",
       "      <td>[Action,, Science, Fiction,, Adventure]</td>\n",
       "      <td>[rescue,, mission,, dream,, airplane,, paris,,...</td>\n",
       "    </tr>\n",
       "    <tr>\n",
       "      <th>1</th>\n",
       "      <td>157336</td>\n",
       "      <td>Interstellar</td>\n",
       "      <td>[The, adventures, of, a, group, of, explorers,...</td>\n",
       "      <td>[Mankind, was, born, on, Earth., It, was, neve...</td>\n",
       "      <td>[Adventure,, Drama,, Science, Fiction]</td>\n",
       "      <td>[rescue,, future,, spacecraft,, race, against,...</td>\n",
       "    </tr>\n",
       "    <tr>\n",
       "      <th>2</th>\n",
       "      <td>155</td>\n",
       "      <td>The Dark Knight</td>\n",
       "      <td>[Batman, raises, the, stakes, in, his, war, on...</td>\n",
       "      <td>[Welcome, to, a, world, without, rules.]</td>\n",
       "      <td>[Drama,, Action,, Crime,, Thriller]</td>\n",
       "      <td>[joker,, sadism,, chaos,, secret, identity,, c...</td>\n",
       "    </tr>\n",
       "    <tr>\n",
       "      <th>3</th>\n",
       "      <td>19995</td>\n",
       "      <td>Avatar</td>\n",
       "      <td>[In, the, 22nd, century,, a, paraplegic, Marin...</td>\n",
       "      <td>[Enter, the, world, of, Pandora.]</td>\n",
       "      <td>[Action,, Adventure,, Fantasy,, Science, Fiction]</td>\n",
       "      <td>[future,, society,, culture, clash,, space, tr...</td>\n",
       "    </tr>\n",
       "    <tr>\n",
       "      <th>4</th>\n",
       "      <td>24428</td>\n",
       "      <td>The Avengers</td>\n",
       "      <td>[When, an, unexpected, enemy, emerges, and, th...</td>\n",
       "      <td>[Some, assembly, required.]</td>\n",
       "      <td>[Science, Fiction,, Action,, Adventure]</td>\n",
       "      <td>[new, york, city,, superhero,, shield,, based,...</td>\n",
       "    </tr>\n",
       "  </tbody>\n",
       "</table>\n",
       "</div>"
      ],
      "text/plain": [
       "       id            title                                           overview  \\\n",
       "0   27205        Inception  [Cobb,, a, skilled, thief, who, commits, corpo...   \n",
       "1  157336     Interstellar  [The, adventures, of, a, group, of, explorers,...   \n",
       "2     155  The Dark Knight  [Batman, raises, the, stakes, in, his, war, on...   \n",
       "3   19995           Avatar  [In, the, 22nd, century,, a, paraplegic, Marin...   \n",
       "4   24428     The Avengers  [When, an, unexpected, enemy, emerges, and, th...   \n",
       "\n",
       "                                             tagline  \\\n",
       "0      [Your, mind, is, the, scene, of, the, crime.]   \n",
       "1  [Mankind, was, born, on, Earth., It, was, neve...   \n",
       "2           [Welcome, to, a, world, without, rules.]   \n",
       "3                  [Enter, the, world, of, Pandora.]   \n",
       "4                        [Some, assembly, required.]   \n",
       "\n",
       "                                              genres  \\\n",
       "0            [Action,, Science, Fiction,, Adventure]   \n",
       "1             [Adventure,, Drama,, Science, Fiction]   \n",
       "2                [Drama,, Action,, Crime,, Thriller]   \n",
       "3  [Action,, Adventure,, Fantasy,, Science, Fiction]   \n",
       "4            [Science, Fiction,, Action,, Adventure]   \n",
       "\n",
       "                                            keywords  \n",
       "0  [rescue,, mission,, dream,, airplane,, paris,,...  \n",
       "1  [rescue,, future,, spacecraft,, race, against,...  \n",
       "2  [joker,, sadism,, chaos,, secret, identity,, c...  \n",
       "3  [future,, society,, culture, clash,, space, tr...  \n",
       "4  [new, york, city,, superhero,, shield,, based,...  "
      ]
     },
     "execution_count": 26,
     "metadata": {},
     "output_type": "execute_result"
    }
   ],
   "source": [
    "file.head()"
   ]
  },
  {
   "cell_type": "code",
   "execution_count": 27,
   "metadata": {},
   "outputs": [],
   "source": [
    "file['tag'] = file['overview'] + file['tagline'] + file['genres'] + file['keywords']"
   ]
  },
  {
   "cell_type": "code",
   "execution_count": 28,
   "metadata": {},
   "outputs": [
    {
     "data": {
      "text/html": [
       "<div>\n",
       "<style scoped>\n",
       "    .dataframe tbody tr th:only-of-type {\n",
       "        vertical-align: middle;\n",
       "    }\n",
       "\n",
       "    .dataframe tbody tr th {\n",
       "        vertical-align: top;\n",
       "    }\n",
       "\n",
       "    .dataframe thead th {\n",
       "        text-align: right;\n",
       "    }\n",
       "</style>\n",
       "<table border=\"1\" class=\"dataframe\">\n",
       "  <thead>\n",
       "    <tr style=\"text-align: right;\">\n",
       "      <th></th>\n",
       "      <th>id</th>\n",
       "      <th>title</th>\n",
       "      <th>overview</th>\n",
       "      <th>tagline</th>\n",
       "      <th>genres</th>\n",
       "      <th>keywords</th>\n",
       "      <th>tag</th>\n",
       "    </tr>\n",
       "  </thead>\n",
       "  <tbody>\n",
       "    <tr>\n",
       "      <th>0</th>\n",
       "      <td>27205</td>\n",
       "      <td>Inception</td>\n",
       "      <td>[Cobb,, a, skilled, thief, who, commits, corpo...</td>\n",
       "      <td>[Your, mind, is, the, scene, of, the, crime.]</td>\n",
       "      <td>[Action,, Science, Fiction,, Adventure]</td>\n",
       "      <td>[rescue,, mission,, dream,, airplane,, paris,,...</td>\n",
       "      <td>[Cobb,, a, skilled, thief, who, commits, corpo...</td>\n",
       "    </tr>\n",
       "    <tr>\n",
       "      <th>1</th>\n",
       "      <td>157336</td>\n",
       "      <td>Interstellar</td>\n",
       "      <td>[The, adventures, of, a, group, of, explorers,...</td>\n",
       "      <td>[Mankind, was, born, on, Earth., It, was, neve...</td>\n",
       "      <td>[Adventure,, Drama,, Science, Fiction]</td>\n",
       "      <td>[rescue,, future,, spacecraft,, race, against,...</td>\n",
       "      <td>[The, adventures, of, a, group, of, explorers,...</td>\n",
       "    </tr>\n",
       "    <tr>\n",
       "      <th>2</th>\n",
       "      <td>155</td>\n",
       "      <td>The Dark Knight</td>\n",
       "      <td>[Batman, raises, the, stakes, in, his, war, on...</td>\n",
       "      <td>[Welcome, to, a, world, without, rules.]</td>\n",
       "      <td>[Drama,, Action,, Crime,, Thriller]</td>\n",
       "      <td>[joker,, sadism,, chaos,, secret, identity,, c...</td>\n",
       "      <td>[Batman, raises, the, stakes, in, his, war, on...</td>\n",
       "    </tr>\n",
       "    <tr>\n",
       "      <th>3</th>\n",
       "      <td>19995</td>\n",
       "      <td>Avatar</td>\n",
       "      <td>[In, the, 22nd, century,, a, paraplegic, Marin...</td>\n",
       "      <td>[Enter, the, world, of, Pandora.]</td>\n",
       "      <td>[Action,, Adventure,, Fantasy,, Science, Fiction]</td>\n",
       "      <td>[future,, society,, culture, clash,, space, tr...</td>\n",
       "      <td>[In, the, 22nd, century,, a, paraplegic, Marin...</td>\n",
       "    </tr>\n",
       "    <tr>\n",
       "      <th>4</th>\n",
       "      <td>24428</td>\n",
       "      <td>The Avengers</td>\n",
       "      <td>[When, an, unexpected, enemy, emerges, and, th...</td>\n",
       "      <td>[Some, assembly, required.]</td>\n",
       "      <td>[Science, Fiction,, Action,, Adventure]</td>\n",
       "      <td>[new, york, city,, superhero,, shield,, based,...</td>\n",
       "      <td>[When, an, unexpected, enemy, emerges, and, th...</td>\n",
       "    </tr>\n",
       "  </tbody>\n",
       "</table>\n",
       "</div>"
      ],
      "text/plain": [
       "       id            title                                           overview  \\\n",
       "0   27205        Inception  [Cobb,, a, skilled, thief, who, commits, corpo...   \n",
       "1  157336     Interstellar  [The, adventures, of, a, group, of, explorers,...   \n",
       "2     155  The Dark Knight  [Batman, raises, the, stakes, in, his, war, on...   \n",
       "3   19995           Avatar  [In, the, 22nd, century,, a, paraplegic, Marin...   \n",
       "4   24428     The Avengers  [When, an, unexpected, enemy, emerges, and, th...   \n",
       "\n",
       "                                             tagline  \\\n",
       "0      [Your, mind, is, the, scene, of, the, crime.]   \n",
       "1  [Mankind, was, born, on, Earth., It, was, neve...   \n",
       "2           [Welcome, to, a, world, without, rules.]   \n",
       "3                  [Enter, the, world, of, Pandora.]   \n",
       "4                        [Some, assembly, required.]   \n",
       "\n",
       "                                              genres  \\\n",
       "0            [Action,, Science, Fiction,, Adventure]   \n",
       "1             [Adventure,, Drama,, Science, Fiction]   \n",
       "2                [Drama,, Action,, Crime,, Thriller]   \n",
       "3  [Action,, Adventure,, Fantasy,, Science, Fiction]   \n",
       "4            [Science, Fiction,, Action,, Adventure]   \n",
       "\n",
       "                                            keywords  \\\n",
       "0  [rescue,, mission,, dream,, airplane,, paris,,...   \n",
       "1  [rescue,, future,, spacecraft,, race, against,...   \n",
       "2  [joker,, sadism,, chaos,, secret, identity,, c...   \n",
       "3  [future,, society,, culture, clash,, space, tr...   \n",
       "4  [new, york, city,, superhero,, shield,, based,...   \n",
       "\n",
       "                                                 tag  \n",
       "0  [Cobb,, a, skilled, thief, who, commits, corpo...  \n",
       "1  [The, adventures, of, a, group, of, explorers,...  \n",
       "2  [Batman, raises, the, stakes, in, his, war, on...  \n",
       "3  [In, the, 22nd, century,, a, paraplegic, Marin...  \n",
       "4  [When, an, unexpected, enemy, emerges, and, th...  "
      ]
     },
     "execution_count": 28,
     "metadata": {},
     "output_type": "execute_result"
    }
   ],
   "source": [
    "file.head()"
   ]
  },
  {
   "cell_type": "code",
   "execution_count": 29,
   "metadata": {},
   "outputs": [],
   "source": [
    "new_file = file[['id','title','tag']]"
   ]
  },
  {
   "cell_type": "code",
   "execution_count": 30,
   "metadata": {},
   "outputs": [
    {
     "name": "stderr",
     "output_type": "stream",
     "text": [
      "/var/folders/2m/53v2qwy10g564nj5mjr0w0nc0000gn/T/ipykernel_42951/3169046667.py:1: SettingWithCopyWarning: \n",
      "A value is trying to be set on a copy of a slice from a DataFrame.\n",
      "Try using .loc[row_indexer,col_indexer] = value instead\n",
      "\n",
      "See the caveats in the documentation: https://pandas.pydata.org/pandas-docs/stable/user_guide/indexing.html#returning-a-view-versus-a-copy\n",
      "  new_file['tag'] = new_file['tag'].apply(lambda x: \" \".join(x))\n"
     ]
    }
   ],
   "source": [
    "new_file['tag'] = new_file['tag'].apply(lambda x: \" \".join(x))"
   ]
  },
  {
   "cell_type": "code",
   "execution_count": 31,
   "metadata": {},
   "outputs": [
    {
     "data": {
      "text/html": [
       "<div>\n",
       "<style scoped>\n",
       "    .dataframe tbody tr th:only-of-type {\n",
       "        vertical-align: middle;\n",
       "    }\n",
       "\n",
       "    .dataframe tbody tr th {\n",
       "        vertical-align: top;\n",
       "    }\n",
       "\n",
       "    .dataframe thead th {\n",
       "        text-align: right;\n",
       "    }\n",
       "</style>\n",
       "<table border=\"1\" class=\"dataframe\">\n",
       "  <thead>\n",
       "    <tr style=\"text-align: right;\">\n",
       "      <th></th>\n",
       "      <th>id</th>\n",
       "      <th>title</th>\n",
       "      <th>tag</th>\n",
       "    </tr>\n",
       "  </thead>\n",
       "  <tbody>\n",
       "    <tr>\n",
       "      <th>0</th>\n",
       "      <td>27205</td>\n",
       "      <td>Inception</td>\n",
       "      <td>Cobb, a skilled thief who commits corporate es...</td>\n",
       "    </tr>\n",
       "    <tr>\n",
       "      <th>1</th>\n",
       "      <td>157336</td>\n",
       "      <td>Interstellar</td>\n",
       "      <td>The adventures of a group of explorers who mak...</td>\n",
       "    </tr>\n",
       "    <tr>\n",
       "      <th>2</th>\n",
       "      <td>155</td>\n",
       "      <td>The Dark Knight</td>\n",
       "      <td>Batman raises the stakes in his war on crime. ...</td>\n",
       "    </tr>\n",
       "    <tr>\n",
       "      <th>3</th>\n",
       "      <td>19995</td>\n",
       "      <td>Avatar</td>\n",
       "      <td>In the 22nd century, a paraplegic Marine is di...</td>\n",
       "    </tr>\n",
       "    <tr>\n",
       "      <th>4</th>\n",
       "      <td>24428</td>\n",
       "      <td>The Avengers</td>\n",
       "      <td>When an unexpected enemy emerges and threatens...</td>\n",
       "    </tr>\n",
       "    <tr>\n",
       "      <th>5</th>\n",
       "      <td>293660</td>\n",
       "      <td>Deadpool</td>\n",
       "      <td>The origin story of former Special Forces oper...</td>\n",
       "    </tr>\n",
       "    <tr>\n",
       "      <th>6</th>\n",
       "      <td>299536</td>\n",
       "      <td>Avengers: Infinity War</td>\n",
       "      <td>As the Avengers and their allies have continue...</td>\n",
       "    </tr>\n",
       "    <tr>\n",
       "      <th>7</th>\n",
       "      <td>550</td>\n",
       "      <td>Fight Club</td>\n",
       "      <td>A ticking-time-bomb insomniac and a slippery s...</td>\n",
       "    </tr>\n",
       "    <tr>\n",
       "      <th>8</th>\n",
       "      <td>118340</td>\n",
       "      <td>Guardians of the Galaxy</td>\n",
       "      <td>Light years from Earth, 26 years after being a...</td>\n",
       "    </tr>\n",
       "    <tr>\n",
       "      <th>9</th>\n",
       "      <td>680</td>\n",
       "      <td>Pulp Fiction</td>\n",
       "      <td>A burger-loving hit man, his philosophical par...</td>\n",
       "    </tr>\n",
       "    <tr>\n",
       "      <th>10</th>\n",
       "      <td>13</td>\n",
       "      <td>Forrest Gump</td>\n",
       "      <td>A man with a low IQ has accomplished great thi...</td>\n",
       "    </tr>\n",
       "    <tr>\n",
       "      <th>11</th>\n",
       "      <td>671</td>\n",
       "      <td>Harry Potter and the Philosopher's Stone</td>\n",
       "      <td>Harry Potter has lived under the stairs at his...</td>\n",
       "    </tr>\n",
       "    <tr>\n",
       "      <th>12</th>\n",
       "      <td>1726</td>\n",
       "      <td>Iron Man</td>\n",
       "      <td>After being held captive in an Afghan cave, bi...</td>\n",
       "    </tr>\n",
       "    <tr>\n",
       "      <th>13</th>\n",
       "      <td>68718</td>\n",
       "      <td>Django Unchained</td>\n",
       "      <td>With the help of a German bounty hunter, a fre...</td>\n",
       "    </tr>\n",
       "    <tr>\n",
       "      <th>14</th>\n",
       "      <td>278</td>\n",
       "      <td>The Shawshank Redemption</td>\n",
       "      <td>Framed in the 1940s for the double murder of h...</td>\n",
       "    </tr>\n",
       "  </tbody>\n",
       "</table>\n",
       "</div>"
      ],
      "text/plain": [
       "        id                                     title  \\\n",
       "0    27205                                 Inception   \n",
       "1   157336                              Interstellar   \n",
       "2      155                           The Dark Knight   \n",
       "3    19995                                    Avatar   \n",
       "4    24428                              The Avengers   \n",
       "5   293660                                  Deadpool   \n",
       "6   299536                    Avengers: Infinity War   \n",
       "7      550                                Fight Club   \n",
       "8   118340                   Guardians of the Galaxy   \n",
       "9      680                              Pulp Fiction   \n",
       "10      13                              Forrest Gump   \n",
       "11     671  Harry Potter and the Philosopher's Stone   \n",
       "12    1726                                  Iron Man   \n",
       "13   68718                          Django Unchained   \n",
       "14     278                  The Shawshank Redemption   \n",
       "\n",
       "                                                  tag  \n",
       "0   Cobb, a skilled thief who commits corporate es...  \n",
       "1   The adventures of a group of explorers who mak...  \n",
       "2   Batman raises the stakes in his war on crime. ...  \n",
       "3   In the 22nd century, a paraplegic Marine is di...  \n",
       "4   When an unexpected enemy emerges and threatens...  \n",
       "5   The origin story of former Special Forces oper...  \n",
       "6   As the Avengers and their allies have continue...  \n",
       "7   A ticking-time-bomb insomniac and a slippery s...  \n",
       "8   Light years from Earth, 26 years after being a...  \n",
       "9   A burger-loving hit man, his philosophical par...  \n",
       "10  A man with a low IQ has accomplished great thi...  \n",
       "11  Harry Potter has lived under the stairs at his...  \n",
       "12  After being held captive in an Afghan cave, bi...  \n",
       "13  With the help of a German bounty hunter, a fre...  \n",
       "14  Framed in the 1940s for the double murder of h...  "
      ]
     },
     "execution_count": 31,
     "metadata": {},
     "output_type": "execute_result"
    }
   ],
   "source": [
    "new_file.head(15)"
   ]
  },
  {
   "cell_type": "code",
   "execution_count": 32,
   "metadata": {},
   "outputs": [
    {
     "data": {
      "text/plain": [
       "(74301, 3)"
      ]
     },
     "execution_count": 32,
     "metadata": {},
     "output_type": "execute_result"
    }
   ],
   "source": [
    "new_file.shape"
   ]
  },
  {
   "cell_type": "code",
   "execution_count": 33,
   "metadata": {},
   "outputs": [],
   "source": [
    "#reducing the size, due the memory limitation\n",
    "new_file = new_file[:30000]"
   ]
  },
  {
   "cell_type": "code",
   "execution_count": 34,
   "metadata": {},
   "outputs": [
    {
     "data": {
      "text/plain": [
       "(30000, 3)"
      ]
     },
     "execution_count": 34,
     "metadata": {},
     "output_type": "execute_result"
    }
   ],
   "source": [
    "new_file.shape"
   ]
  },
  {
   "cell_type": "code",
   "execution_count": 35,
   "metadata": {},
   "outputs": [
    {
     "data": {
      "text/plain": [
       "'Cobb, a skilled thief who commits corporate espionage by infiltrating the subconscious of his targets is offered a chance to regain his old life as payment for a task considered to be impossible: \"inception\", the implantation of another person\\'s idea into a target\\'s subconscious. Your mind is the scene of the crime. Action, Science Fiction, Adventure rescue, mission, dream, airplane, paris, france, virtual reality, kidnapping, philosophy, spy, allegory, manipulation, car crash, heist, memory, architecture, los angeles, california, dream world, subconscious'"
      ]
     },
     "execution_count": 35,
     "metadata": {},
     "output_type": "execute_result"
    }
   ],
   "source": [
    "new_file.iloc[0]['tag']"
   ]
  },
  {
   "cell_type": "code",
   "execution_count": 37,
   "metadata": {},
   "outputs": [],
   "source": [
    "port = PorterStemmer()"
   ]
  },
  {
   "cell_type": "code",
   "execution_count": 38,
   "metadata": {},
   "outputs": [],
   "source": [
    "def stemmer(txt):\n",
    "    t = []\n",
    "    for i in txt.split():\n",
    "        t.append(port.stem(i))\n",
    "    return \" \".join(t)\n"
   ]
  },
  {
   "cell_type": "code",
   "execution_count": 39,
   "metadata": {},
   "outputs": [],
   "source": [
    "new_file['tag'] = new_file['tag'].apply(stemmer)"
   ]
  },
  {
   "cell_type": "code",
   "execution_count": 40,
   "metadata": {},
   "outputs": [
    {
     "data": {
      "text/plain": [
       "'cobb, a skill thief who commit corpor espionag by infiltr the subconsci of hi target is offer a chanc to regain hi old life as payment for a task consid to be impossible: \"inception\", the implant of anoth person\\' idea into a target\\' subconscious. your mind is the scene of the crime. action, scienc fiction, adventur rescue, mission, dream, airplane, paris, france, virtual reality, kidnapping, philosophy, spy, allegory, manipulation, car crash, heist, memory, architecture, lo angeles, california, dream world, subconsci'"
      ]
     },
     "execution_count": 40,
     "metadata": {},
     "output_type": "execute_result"
    }
   ],
   "source": [
    "new_file['tag'][0]"
   ]
  },
  {
   "cell_type": "code",
   "execution_count": 42,
   "metadata": {},
   "outputs": [],
   "source": [
    "cv = CountVectorizer(max_features=2000, stop_words='english')"
   ]
  },
  {
   "cell_type": "code",
   "execution_count": 43,
   "metadata": {},
   "outputs": [],
   "source": [
    "vector = cv.fit_transform(new_file['tag']).toarray()"
   ]
  },
  {
   "cell_type": "code",
   "execution_count": 44,
   "metadata": {},
   "outputs": [
    {
     "data": {
      "text/plain": [
       "array([0, 0, 0, ..., 0, 0, 0])"
      ]
     },
     "execution_count": 44,
     "metadata": {},
     "output_type": "execute_result"
    }
   ],
   "source": [
    "vector[1]"
   ]
  },
  {
   "cell_type": "markdown",
   "metadata": {},
   "source": [
    "what we basically did was, we initialized a CountVectorizer to process text data in the 'tag' column of the new_file DataFrame, restricting the vocabulary to the 2000 most frequent words while ignoring common English stop words. It then fits the vectorizer to the data and transforms it into a dense array format that represents the count of each word in the documents."
   ]
  },
  {
   "cell_type": "code",
   "execution_count": 46,
   "metadata": {},
   "outputs": [],
   "source": [
    "sim = cosine_similarity(vector)"
   ]
  },
  {
   "cell_type": "code",
   "execution_count": 47,
   "metadata": {},
   "outputs": [],
   "source": [
    "def recommend(movie):\n",
    "    index = new_file[new_file['title'] == movie].index[0]\n",
    "    distances = sorted(list(enumerate(sim[index])),reverse=True,key = lambda x: x[1])\n",
    "    for i in distances[1:8]:\n",
    "        print(new_file.iloc[i[0]].title)"
   ]
  },
  {
   "cell_type": "code",
   "execution_count": 48,
   "metadata": {},
   "outputs": [
    {
     "name": "stdout",
     "output_type": "stream",
     "text": [
      "Spider-Man 3\n",
      "Spider-Man: Across the Spider-Verse\n",
      "The Spectacular Spider-Man Attack of the Lizard\n",
      "Spider-Man 2\n",
      "Spider-Man: No Way Home\n",
      "Supergirl\n",
      "The Amazing Spider-Man\n"
     ]
    }
   ],
   "source": [
    "recommend('Spider-Man')"
   ]
  },
  {
   "cell_type": "code",
   "execution_count": 50,
   "metadata": {},
   "outputs": [],
   "source": [
    "pickle.dump(new_file, open('/Users/sudipkhadka/Desktop/Recomendation-System/model/embedded_name.pkl', 'wb'))"
   ]
  },
  {
   "cell_type": "code",
   "execution_count": 51,
   "metadata": {},
   "outputs": [],
   "source": [
    "\n",
    "pickle.dump(sim, open('/Users/sudipkhadka/Desktop/Recomendation-System/model/similarity.pkl','wb'))"
   ]
  },
  {
   "cell_type": "code",
   "execution_count": null,
   "metadata": {},
   "outputs": [],
   "source": []
  }
 ],
 "metadata": {
  "kernelspec": {
   "display_name": ".rec",
   "language": "python",
   "name": "python3"
  },
  "language_info": {
   "codemirror_mode": {
    "name": "ipython",
    "version": 3
   },
   "file_extension": ".py",
   "mimetype": "text/x-python",
   "name": "python",
   "nbconvert_exporter": "python",
   "pygments_lexer": "ipython3",
   "version": "3.12.6"
  }
 },
 "nbformat": 4,
 "nbformat_minor": 2
}
